{
 "cells": [
  {
   "cell_type": "code",
   "execution_count": null,
   "metadata": {},
   "outputs": [],
   "source": [
    "import pandas as pd\n",
    "import numpy as np\n",
    "import os"
   ]
  },
  {
   "cell_type": "code",
   "execution_count": 14,
   "metadata": {},
   "outputs": [],
   "source": [
    "# TASK 2 - SGNex Data\n",
    "\n",
    "# configurable:\n",
    "filepath = \"sg-nex/predictions_SGNex_A549_directRNA_replicate5_run1.csv\"\n",
    "\n",
    "# path to csv output\n",
    "df = pd.read_csv(filepath)\n",
    "\n",
    "filename = os.path.splitext(os.path.basename(filepath))[0]\n",
    "parts = filename.split('_')\n",
    "cell_line = parts[2]  # Third string after splitting by _\n",
    "run = parts[4] + '_' + parts[5]\n",
    "\n",
    "# Function to round to 5 significant figures\n",
    "def round_to_significant(x, sig=5):\n",
    "    if x == 0:\n",
    "        return 0\n",
    "    elif x >= 1:\n",
    "        return round(x, 5)\n",
    "    else:\n",
    "        return round(x, sig - int(np.floor(np.log10(abs(x)))) - 1)\n",
    "\n",
    "# Apply the rounding function to all float columns\n",
    "for col in df.select_dtypes(include=['float']).columns:\n",
    "    df[col] = df[col].apply(round_to_significant)\n",
    "\n",
    "df.insert(0, 'cell_line', cell_line)\n",
    "df.insert(1, 'run', run)\n",
    "\n",
    "df.to_parquet(f\"../data/parquet_files/{filename}.parquet\", compression=\"gzip\")"
   ]
  }
 ],
 "metadata": {
  "kernelspec": {
   "display_name": "Python 3",
   "language": "python",
   "name": "python3"
  },
  "language_info": {
   "codemirror_mode": {
    "name": "ipython",
    "version": 3
   },
   "file_extension": ".py",
   "mimetype": "text/x-python",
   "name": "python",
   "nbconvert_exporter": "python",
   "pygments_lexer": "ipython3",
   "version": "3.8.20"
  }
 },
 "nbformat": 4,
 "nbformat_minor": 2
}
