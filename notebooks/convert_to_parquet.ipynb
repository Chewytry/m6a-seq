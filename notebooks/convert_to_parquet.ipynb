{
 "cells": [
  {
   "cell_type": "code",
   "execution_count": null,
   "metadata": {},
   "outputs": [],
   "source": [
    "import pandas as pd\n",
    "import numpy as np\n",
    "\n",
    "# configurable:\n",
    "filename = \"predictions_SGNex_HepG2_directRNA_replicate6_run1\"\n",
    "\n",
    "# path to csv output\n",
    "df = pd.read_csv(f\"path/to/{filename}.csv\")\n",
    "\n",
    "parts = filename.split('_')\n",
    "cell_line = parts[2]  # Third string after splitting by _\n",
    "run = parts[4] + '_' + parts[5]\n",
    "\n",
    "# Function to round to 5 significant figures\n",
    "def round_to_significant(x, sig=5):\n",
    "    if x == 0:\n",
    "        return 0\n",
    "    elif x >= 1:\n",
    "        return round(x, 5)\n",
    "    else:\n",
    "        return round(x, sig - int(np.floor(np.log10(abs(x)))) - 1)\n",
    "\n",
    "# Apply the rounding function to all float columns\n",
    "for col in df.select_dtypes(include=['float']).columns:\n",
    "    df[col] = df[col].apply(round_to_significant)\n",
    "\n",
    "df.insert(0, 'cell_line', cell_line)\n",
    "df.insert(1, 'run', run)\n",
    "\n",
    "df.to_parquet(f\"../data/parquet_files/{filename}.parquet\", compression=\"gzip\")\n"
   ]
  },
  {
   "cell_type": "code",
   "execution_count": null,
   "metadata": {},
   "outputs": [],
   "source": [
    "df = pd.read_parquet(\"SGNex_Hct116_directRNA_replicate4_run3.parquet\")"
   ]
  },
  {
   "cell_type": "code",
   "execution_count": 15,
   "metadata": {},
   "outputs": [
    {
     "name": "stdout",
     "output_type": "stream",
     "text": [
      "  transcript_id  transcript_position sequence  proportion_1  proportion_2  \\\n",
      "0       R2_55_3                   26  GAAACTG      0.056945      0.069628   \n",
      "1       R2_55_3                   34  TAAACTA      0.036292      0.069628   \n",
      "2       R2_55_3                  291  TAAACCT      0.036292      0.054792   \n",
      "3       R2_55_3                  279  AGAACCA      0.060112      0.046590   \n",
      "4       R2_55_3                  262  CTAACTC      0.018668      0.034828   \n",
      "\n",
      "   proportion_3  diff_1_1  diff_1_2  diff_1_3  diff_2_1  ...     min_6  \\\n",
      "0      0.050616 -0.005062   0.63680  -0.87500 -0.001212  ...  0.002320   \n",
      "1      0.028537  0.000524   0.21641   0.90588  0.001057  ...  0.003509   \n",
      "2      0.039357 -0.003120   0.37379  -5.03040 -0.000108  ...  0.002320   \n",
      "3      0.043343  0.002154  -3.36590 -35.84200 -0.007329  ...  0.002697   \n",
      "4      0.032811  0.003175   0.47843   7.00800 -0.002338  ...  0.002660   \n",
      "\n",
      "    mean_7    var_7    max_7    min_7    mean_8     var_8  max_8  min_8  \\\n",
      "0  2.78129  2.79738  7.64353  1.16648  94.85625   4.30371   98.2   88.7   \n",
      "1  1.96502  0.36386  3.46000  1.15504  94.25294   3.89779   99.8   91.2   \n",
      "2  2.19400  0.89253  4.71100  0.91900  85.71304  15.69157   93.9   73.9   \n",
      "3  1.72655  0.24487  3.41600  1.09347  83.57500   2.34271   87.1   79.0   \n",
      "4  1.81495  0.17880  2.75200  1.03467  91.77200   3.70362   97.0   89.1   \n",
      "\n",
      "      score  \n",
      "0  0.002336  \n",
      "1  0.010314  \n",
      "2  0.005860  \n",
      "3  0.036425  \n",
      "4  0.008556  \n",
      "\n",
      "[5 rows x 50 columns]\n"
     ]
    }
   ],
   "source": [
    "print(df.head())"
   ]
  }
 ],
 "metadata": {
  "kernelspec": {
   "display_name": "Python 3",
   "language": "python",
   "name": "python3"
  },
  "language_info": {
   "codemirror_mode": {
    "name": "ipython",
    "version": 3
   },
   "file_extension": ".py",
   "mimetype": "text/x-python",
   "name": "python",
   "nbconvert_exporter": "python",
   "pygments_lexer": "ipython3",
   "version": "3.11.4"
  }
 },
 "nbformat": 4,
 "nbformat_minor": 2
}
